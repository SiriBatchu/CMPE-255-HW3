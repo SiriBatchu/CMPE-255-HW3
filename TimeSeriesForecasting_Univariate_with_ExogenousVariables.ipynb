{
  "nbformat": 4,
  "nbformat_minor": 0,
  "metadata": {
    "colab": {
      "provenance": [],
      "authorship_tag": "ABX9TyMcNxUGF4T+1XbxLXrS2qh9",
      "include_colab_link": true
    },
    "kernelspec": {
      "name": "python3",
      "display_name": "Python 3"
    },
    "language_info": {
      "name": "python"
    }
  },
  "cells": [
    {
      "cell_type": "markdown",
      "metadata": {
        "id": "view-in-github",
        "colab_type": "text"
      },
      "source": [
        "<a href=\"https://colab.research.google.com/github/SiriBatchu/CMPE-255-HW3/blob/main/TimeSeriesForecasting_Univariate_with_ExogenousVariables.ipynb\" target=\"_parent\"><img src=\"https://colab.research.google.com/assets/colab-badge.svg\" alt=\"Open In Colab\"/></a>"
      ]
    },
    {
      "cell_type": "code",
      "execution_count": null,
      "metadata": {
        "id": "Hv6KAljgUNqK"
      },
      "outputs": [],
      "source": [
        "dgrhtdghh"
      ]
    }
  ]
}